{
 "cells": [
  {
   "cell_type": "code",
   "execution_count": 7,
   "metadata": {
    "scrolled": false
   },
   "outputs": [
    {
     "name": "stdout",
     "output_type": "stream",
     "text": [
      "[[ 8  0  0  0  0  0  0  0  0  0]\n",
      " [ 0 14  0  0  0  0  0  0  0  0]\n",
      " [ 0  0  7  1  0  0  0  0  0  0]\n",
      " [ 0  0  0  8  0  2  0  0  0  1]\n",
      " [ 0  0  0  0 10  0  0  0  0  4]\n",
      " [ 0  1  0  1  1  4  0  0  0  0]\n",
      " [ 2  0  0  0  0  0  8  0  0  0]\n",
      " [ 0  0  0  0  0  0  0 14  0  1]\n",
      " [ 0  0  1  0  0  0  0  0  1  0]\n",
      " [ 0  0  0  0  1  0  0  1  0  9]]\n",
      "0.83\n",
      "[[ 8  0  0  0  0  0  0  0  0  0]\n",
      " [ 0 14  0  0  0  0  0  0  0  0]\n",
      " [ 6  0  2  0  0  0  0  0  0  0]\n",
      " [ 4  0  0  6  0  0  0  0  0  1]\n",
      " [ 7  0  0  0  6  0  0  0  0  1]\n",
      " [ 4  0  0  0  0  3  0  0  0  0]\n",
      " [ 5  0  0  0  0  0  5  0  0  0]\n",
      " [ 3  0  0  0  0  0  0 12  0  0]\n",
      " [ 1  0  0  0  0  0  0  0  1  0]\n",
      " [ 4  0  0  0  0  0  0  0  0  7]]\n",
      "0.64\n"
     ]
    },
    {
     "name": "stderr",
     "output_type": "stream",
     "text": [
      "C:\\Users\\archana\\Anaconda3\\lib\\site-packages\\ipykernel_launcher.py:31: UserWarning: To copy construct from a tensor, it is recommended to use sourceTensor.clone().detach() or sourceTensor.clone().detach().requires_grad_(True), rather than torch.tensor(sourceTensor).\n"
     ]
    },
    {
     "name": "stdout",
     "output_type": "stream",
     "text": [
      "[[ 8  0  0  0  0  0  0  0  0  0]\n",
      " [ 0 14  0  0  0  0  0  0  0  0]\n",
      " [ 0  1  5  0  1  0  0  1  0  0]\n",
      " [ 0  1  1  6  1  2  0  0  0  0]\n",
      " [ 1  0  0  0  9  0  0  1  0  3]\n",
      " [ 0  1  0  1  2  2  0  0  0  1]\n",
      " [ 0  1  0  0  0  0  9  0  0  0]\n",
      " [ 0  1  0  0  0  0  0 13  0  1]\n",
      " [ 0  0  0  0  0  0  0  0  2  0]\n",
      " [ 0  0  0  0  4  0  0  1  0  6]]\n",
      "0.74\n"
     ]
    }
   ],
   "source": [
    "import torch\n",
    "(x_train, y_train, x_test, y_test)=torch.load('mnist.pt')\n",
    "\n",
    "# Set the datatype as float\n",
    "\n",
    "x_train=x_train.type(torch.FloatTensor)\n",
    "x_test =x_test.type(torch.FloatTensor)\n",
    "y_test =y_test.type(torch.FloatTensor)\n",
    "y_train =y_train.type(torch.FloatTensor)\n",
    "# size of training data and test data\n",
    "a=x_train.shape\n",
    "b=x_test.shape\n",
    "#Initializing 'c'\n",
    "c=torch.zeros(a[0],b[0])\n",
    "#finding eucledian distance between train and test\n",
    "for i in range(a[0]):\n",
    "   for j in range(b[0]):\n",
    "        c[i,j]=torch.dist(torch.reshape(x_train[i],[1,a[1]*a[2]]),torch.reshape(x_test[j],[1,a[1]*a[2]]),2)\n",
    "#KNN classifier for K=1\n",
    "d=torch.kthvalue(c,1,0)\n",
    "e=torch.zeros(b[0])\n",
    "g=d[1]\n",
    "count1=0\n",
    "for l in range(b[0]):\n",
    "    e[l]=y_train[g[l]]\n",
    "    if e[l]==y_test[l]:\n",
    "       count1=count1+1\n",
    "#loading 'sklearn'library\n",
    "from sklearn.metrics import confusion_matrix\n",
    "from sklearn.metrics import accuracy_score\n",
    "# confusion matrix and and accuracy measure \n",
    "f1=confusion_matrix(y_test,e)\n",
    "print(f1)\n",
    "f4=accuracy_score(y_test,e)\n",
    "print(f4)\n",
    "# KNN for K=3\n",
    "d1=torch.sort(c,0)\n",
    "d2=torch.tensor(d1[1])\n",
    "indices=torch.tensor([0,1,2])\n",
    "d3=torch.index_select(d2,0,indices)\n",
    "h=torch.zeros(3,b[0])\n",
    "h1=torch.zeros(b[0])\n",
    "#Searching for majority label\n",
    "for m in range(b[0]):\n",
    "    for n in range(3):\n",
    "        h[n,m]=y_train[d3[n,m]]\n",
    "    \n",
    "    if h[0,m]==h[1,m] and h[0,m]==h[2,m]: \n",
    "       h1[m]=h[0,m]\n",
    "    elif h[1,m]==h[2,m] and h[1,m]==h[0,m]:\n",
    "         h1[m]=h[1,m]\n",
    "        \n",
    "    elif   h[2,m]==h[1,m] and h[2,m]==h[0,m]:\n",
    "             h1[m]=h[2,m]\n",
    "    #else:\n",
    "     #  h1[m] =y_train[d3[0,m]]   \n",
    "f2=confusion_matrix(y_test,h1)\n",
    "f5=accuracy_score(y_test,h1)\n",
    "print(f2)\n",
    "print(f5)\n",
    "## KNN for K=5\n",
    "indices1=torch.tensor([0,1,2,3,4])\n",
    "d31=torch.index_select(d2,0,indices1)\n",
    "h3=torch.zeros(5,b[0])\n",
    "h2=torch.zeros(b[0])\n",
    "count2=0\n",
    "for m in range(b[0]):\n",
    "    for n in range(5):\n",
    "        h3[n,m]=y_train[d31[n,m]]\n",
    "        for z1 in range(5):\n",
    "            for z in range(5):\n",
    "                if  z1!=z and h3[z1,m]==h3[z,m]:\n",
    "                     count2=count2+1\n",
    "                if count2 >= 3:\n",
    "                   h2[m]=h3[z1,m]\n",
    "  \n",
    "f3=confusion_matrix(y_test,h2)\n",
    "f6=accuracy_score(y_test,h2)\n",
    "print(f3)\n",
    "print(f6)"
   ]
  }
 ],
 "metadata": {
  "kernelspec": {
   "display_name": "Python 3",
   "language": "python",
   "name": "python3"
  },
  "language_info": {
   "codemirror_mode": {
    "name": "ipython",
    "version": 3
   },
   "file_extension": ".py",
   "mimetype": "text/x-python",
   "name": "python",
   "nbconvert_exporter": "python",
   "pygments_lexer": "ipython3",
   "version": "3.7.1"
  }
 },
 "nbformat": 4,
 "nbformat_minor": 2
}
