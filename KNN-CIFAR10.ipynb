{
 "cells": [
  {
   "cell_type": "code",
   "execution_count": 4,
   "metadata": {},
   "outputs": [],
   "source": [
    "import torch\n",
    "(x_train, y_train, x_test, y_test)=torch.load('cifar10.pt')"
   ]
  },
  {
   "cell_type": "code",
   "execution_count": 5,
   "metadata": {},
   "outputs": [],
   "source": [
    "#set datatype as float\n",
    "x_train=x_train.type(torch.FloatTensor)\n",
    "x_test =x_test.type(torch.FloatTensor)\n",
    "y_test =y_test.type(torch.FloatTensor)\n",
    "y_train =y_train.type(torch.FloatTensor)\n",
    "#size of train and test samples\n",
    "s1=x_train.shape\n",
    "s2=x_test.shape\n",
    "\n"
   ]
  },
  {
   "cell_type": "code",
   "execution_count": 6,
   "metadata": {},
   "outputs": [],
   "source": [
    "#initializing\n",
    "b=torch.zeros(s1[0],256,3)\n",
    "c=torch.zeros(s2[0],256,3)\n",
    "# histogram of test and train sample\n",
    " \n",
    "for i  in range(1000):\n",
    "    \n",
    "    for k in range(s1[1]):\n",
    "        for l in range(s1[2]):\n",
    "            for j in range(s1[3]):\n",
    "                a=0;\n",
    "                a=x_train[i,k,l,j]\n",
    "                a=int(a)\n",
    "                b[i,a,j]=b[i,a,j]+1\n",
    "                \n",
    "                if i<=s2[0]-1:\n",
    "                    a1=0;\n",
    "                    a1=x_test[i,k,l,j]\n",
    "                    a1=int(a1)\n",
    "                    c[i,a1,j]=c[i,a1,j]+1"
   ]
  },
  {
   "cell_type": "code",
   "execution_count": 7,
   "metadata": {},
   "outputs": [],
   "source": [
    "#reshaping\n",
    "b1=b.reshape(1000,256*3)\n",
    "b2=c.reshape(100,256*3)\n"
   ]
  },
  {
   "cell_type": "code",
   "execution_count": 23,
   "metadata": {},
   "outputs": [],
   "source": [
    "\n",
    "d=torch.zeros(s1[0],s2[0])\n",
    "# finding euclidean distance\n",
    "for i in range(s1[0]):\n",
    "    for j in range(s2[0]):\n",
    "        d[i,j]=torch.dist(b1[i],b2[j],2)"
   ]
  },
  {
   "cell_type": "code",
   "execution_count": 24,
   "metadata": {},
   "outputs": [
    {
     "name": "stderr",
     "output_type": "stream",
     "text": [
      "C:\\Users\\archana\\Anaconda3\\lib\\site-packages\\ipykernel_launcher.py:2: UserWarning: To copy construct from a tensor, it is recommended to use sourceTensor.clone().detach() or sourceTensor.clone().detach().requires_grad_(True), rather than torch.tensor(sourceTensor).\n",
      "  \n"
     ]
    }
   ],
   "source": [
    "d1=torch.sort(d,0)\n",
    "d2=torch.tensor(d1[1])\n",
    "indices=torch.tensor([0])\n",
    "#KNN for K=1\n",
    "d3=torch.index_select(d2,0,indices)"
   ]
  },
  {
   "cell_type": "code",
   "execution_count": 25,
   "metadata": {},
   "outputs": [],
   "source": [
    "e=torch.zeros(s2[0])\n",
    "for ii in range(s2[0]):\n",
    "    e[ii]=y_train[d3[0,ii]]"
   ]
  },
  {
   "cell_type": "code",
   "execution_count": 26,
   "metadata": {},
   "outputs": [
    {
     "name": "stdout",
     "output_type": "stream",
     "text": [
      "[[2 1 0 1 1 0 4 0 1 0]\n",
      " [0 2 0 0 0 1 0 0 1 2]\n",
      " [0 3 1 1 1 1 0 0 0 1]\n",
      " [0 1 0 0 1 1 2 1 0 4]\n",
      " [0 0 2 2 0 2 1 0 0 0]\n",
      " [0 2 1 1 0 1 2 0 0 1]\n",
      " [0 0 0 3 3 0 8 2 0 0]\n",
      " [1 1 0 1 1 1 1 3 0 2]\n",
      " [5 1 0 3 0 0 1 0 1 2]\n",
      " [0 2 0 1 1 1 1 0 1 4]]\n",
      "0.22\n"
     ]
    }
   ],
   "source": [
    "#import sklearn library\n",
    "from sklearn.metrics import confusion_matrix\n",
    "from sklearn.metrics import accuracy_score\n",
    "# confusion matrix and accuracy\n",
    "f3=confusion_matrix(y_test,e)\n",
    "print(f3)\n",
    "f5=accuracy_score(y_test,e)\n",
    "print(f5)"
   ]
  },
  {
   "cell_type": "code",
   "execution_count": 29,
   "metadata": {},
   "outputs": [],
   "source": [
    "indices1=torch.tensor([0,1,2])\n",
    "d31=torch.index_select(d2,0,indices1)"
   ]
  },
  {
   "cell_type": "code",
   "execution_count": 39,
   "metadata": {},
   "outputs": [],
   "source": [
    "# KNN for K=3\n",
    "h=torch.zeros(3,s2[0])\n",
    "h1=torch.zeros(s2[0])\n",
    "for m in range(s2[0]):\n",
    "    for n in range(3):\n",
    "        h[n,m]=y_train[d31[n,m]]\n",
    "    \n",
    "    if h[0,m]==h[1,m] and h[0,m]==h[2,m]: \n",
    "       h1[m]=h[0,m]\n",
    "    elif h[1,m]==h[2,m] and h[1,m]==h[0,m]:\n",
    "         h1[m]=h[1,m]\n",
    "        \n",
    "    elif   h[2,m]==h[1,m] and h[2,m]==h[0,m]:\n",
    "             h1[m]=h[2,m]\n",
    "    #else:\n",
    "     #  h1[m] =y_train[d3[0,m]]   \n",
    "f21=confusion_matrix(y_test,h1)\n",
    "f51=accuracy_score(y_test,h1)"
   ]
  },
  {
   "cell_type": "code",
   "execution_count": 40,
   "metadata": {},
   "outputs": [
    {
     "name": "stdout",
     "output_type": "stream",
     "text": [
      "[[10  0  0  0  0  0  0  0  0  0]\n",
      " [ 6  0  0  0  0  0  0  0  0  0]\n",
      " [ 8  0  0  0  0  0  0  0  0  0]\n",
      " [10  0  0  0  0  0  0  0  0  0]\n",
      " [ 7  0  0  0  0  0  0  0  0  0]\n",
      " [ 8  0  0  0  0  0  0  0  0  0]\n",
      " [15  0  0  0  1  0  0  0  0  0]\n",
      " [10  0  0  0  0  0  0  0  0  1]\n",
      " [13  0  0  0  0  0  0  0  0  0]\n",
      " [ 9  0  0  1  0  0  0  0  0  1]]\n",
      "0.11\n"
     ]
    }
   ],
   "source": [
    "print(f21)\n",
    "print(f51)"
   ]
  },
  {
   "cell_type": "code",
   "execution_count": 41,
   "metadata": {},
   "outputs": [
    {
     "name": "stdout",
     "output_type": "stream",
     "text": [
      "[[10  0  0  0  0  0  0  0  0  0]\n",
      " [ 6  0  0  0  0  0  0  0  0  0]\n",
      " [ 7  1  0  0  0  0  0  0  0  0]\n",
      " [10  0  0  0  0  0  0  0  0  0]\n",
      " [ 6  0  0  0  0  0  1  0  0  0]\n",
      " [ 8  0  0  0  0  0  0  0  0  0]\n",
      " [15  0  0  0  1  0  0  0  0  0]\n",
      " [10  0  0  0  0  0  0  0  0  1]\n",
      " [13  0  0  0  0  0  0  0  0  0]\n",
      " [11  0  0  0  0  0  0  0  0  0]]\n",
      "0.1\n"
     ]
    }
   ],
   "source": [
    "#KNN for K=5\n",
    "indices2=torch.tensor([0,1,2,3,4])\n",
    "d32=torch.index_select(d2,0,indices2)\n",
    "h3=torch.zeros(5,s2[0])\n",
    "h2=torch.zeros(s2[0])\n",
    "count2=0\n",
    "for m in range(s2[0]):\n",
    "    for n in range(5):\n",
    "        h3[n,m]=y_train[d32[n,m]]\n",
    "        for z1 in range(5):\n",
    "            count2=0\n",
    "            for z in range(5):\n",
    "                if  z1!=z and h3[z1,m]==h3[z,m]:\n",
    "                     count2=count2+1\n",
    "                if count2 >=3:\n",
    "                   h2[m]=h3[z1,m]\n",
    "f31=confusion_matrix(y_test,h2)\n",
    "f61=accuracy_score(y_test,h2)\n",
    "print(f31)\n",
    "print(f61)"
   ]
  },
  {
   "cell_type": "code",
   "execution_count": null,
   "metadata": {},
   "outputs": [],
   "source": []
  },
  {
   "cell_type": "code",
   "execution_count": null,
   "metadata": {},
   "outputs": [],
   "source": []
  }
 ],
 "metadata": {
  "kernelspec": {
   "display_name": "Python 3",
   "language": "python",
   "name": "python3"
  },
  "language_info": {
   "codemirror_mode": {
    "name": "ipython",
    "version": 3
   },
   "file_extension": ".py",
   "mimetype": "text/x-python",
   "name": "python",
   "nbconvert_exporter": "python",
   "pygments_lexer": "ipython3",
   "version": "3.7.1"
  }
 },
 "nbformat": 4,
 "nbformat_minor": 2
}
